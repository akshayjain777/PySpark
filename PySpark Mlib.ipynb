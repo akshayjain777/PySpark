{
 "cells": [
  {
   "cell_type": "code",
   "execution_count": 1,
   "id": "caafd390-2006-4f09-b8d6-71ab0d23cfef",
   "metadata": {},
   "outputs": [
    {
     "name": "stderr",
     "output_type": "stream",
     "text": [
      "Setting default log level to \"WARN\".\n",
      "To adjust logging level use sc.setLogLevel(newLevel). For SparkR, use setLogLevel(newLevel).\n",
      "23/08/18 15:26:48 WARN NativeCodeLoader: Unable to load native-hadoop library for your platform... using builtin-java classes where applicable\n",
      "23/08/18 15:26:48 WARN Utils: Service 'SparkUI' could not bind on port 4040. Attempting port 4041.\n",
      "23/08/18 15:26:48 WARN Utils: Service 'SparkUI' could not bind on port 4041. Attempting port 4042.\n"
     ]
    }
   ],
   "source": [
    "from pyspark.sql import SparkSession\n",
    "spark = SparkSession.builder.appName('Mlib').getOrCreate()"
   ]
  },
  {
   "cell_type": "code",
   "execution_count": 2,
   "id": "19686d62-c799-4a1e-bfd2-71d0e14de404",
   "metadata": {},
   "outputs": [],
   "source": [
    "training = spark.read.csv('test4.csv', header = True, inferSchema = True)"
   ]
  },
  {
   "cell_type": "code",
   "execution_count": 3,
   "id": "d15eee09-97e8-4c28-8f6b-031e2d804651",
   "metadata": {},
   "outputs": [
    {
     "name": "stdout",
     "output_type": "stream",
     "text": [
      "+---------+---+----------+------+\n",
      "|     Name|age|Experience|Salary|\n",
      "+---------+---+----------+------+\n",
      "|    Krish| 31|        10| 30000|\n",
      "|Sudhanshu| 30|         8| 25000|\n",
      "|    Sunny| 29|         4| 20000|\n",
      "|     Paul| 24|         3| 20000|\n",
      "|   Harsha| 21|         1| 15000|\n",
      "|  Shubham| 23|         2| 18000|\n",
      "+---------+---+----------+------+\n",
      "\n"
     ]
    }
   ],
   "source": [
    "training.show()"
   ]
  },
  {
   "cell_type": "code",
   "execution_count": 4,
   "id": "3c47f625-d9b0-4a6f-92fe-588400155ebf",
   "metadata": {},
   "outputs": [
    {
     "data": {
      "text/plain": [
       "['Name', 'age', 'Experience', 'Salary']"
      ]
     },
     "execution_count": 4,
     "metadata": {},
     "output_type": "execute_result"
    }
   ],
   "source": [
    "training.columns"
   ]
  },
  {
   "cell_type": "code",
   "execution_count": 10,
   "id": "a87817ec-8623-4e78-b8b3-ee8aa6f02b5e",
   "metadata": {},
   "outputs": [],
   "source": [
    "# Assemble independent features for Mlib \n",
    "#[Age, Experience] --> new feature --> independent feature"
   ]
  },
  {
   "cell_type": "code",
   "execution_count": 7,
   "id": "a48fc2b7-5f5c-4bb9-8810-13b34d300de6",
   "metadata": {},
   "outputs": [],
   "source": [
    "from pyspark.ml.feature import VectorAssembler\n",
    "featureassembler = VectorAssembler(inputCols= [\"age\",\"Experience\"], outputCol= \"Independent\")"
   ]
  },
  {
   "cell_type": "code",
   "execution_count": 8,
   "id": "6596bcf1-3410-44e7-8b77-a493b5b75495",
   "metadata": {},
   "outputs": [],
   "source": [
    "output = featureassembler.transform(training)"
   ]
  },
  {
   "cell_type": "code",
   "execution_count": 9,
   "id": "6f195e34-b1f6-4fe4-8156-6a300686ebc1",
   "metadata": {},
   "outputs": [
    {
     "name": "stdout",
     "output_type": "stream",
     "text": [
      "+---------+---+----------+------+-----------+\n",
      "|     Name|age|Experience|Salary|Independent|\n",
      "+---------+---+----------+------+-----------+\n",
      "|    Krish| 31|        10| 30000|[31.0,10.0]|\n",
      "|Sudhanshu| 30|         8| 25000| [30.0,8.0]|\n",
      "|    Sunny| 29|         4| 20000| [29.0,4.0]|\n",
      "|     Paul| 24|         3| 20000| [24.0,3.0]|\n",
      "|   Harsha| 21|         1| 15000| [21.0,1.0]|\n",
      "|  Shubham| 23|         2| 18000| [23.0,2.0]|\n",
      "+---------+---+----------+------+-----------+\n",
      "\n"
     ]
    }
   ],
   "source": [
    "output.show()"
   ]
  },
  {
   "cell_type": "code",
   "execution_count": 11,
   "id": "b75424dd-5177-4e6e-b7ef-9be5c3098f83",
   "metadata": {},
   "outputs": [
    {
     "data": {
      "text/plain": [
       "['Name', 'age', 'Experience', 'Salary', 'Independent']"
      ]
     },
     "execution_count": 11,
     "metadata": {},
     "output_type": "execute_result"
    }
   ],
   "source": [
    "output.columns"
   ]
  },
  {
   "cell_type": "code",
   "execution_count": 13,
   "id": "2e001ada-c551-49df-a9ac-6d689491b0ea",
   "metadata": {},
   "outputs": [],
   "source": [
    "# Subset final colmns\n",
    "finalized_data = output.select(\"Independent\",\"Salary\")"
   ]
  },
  {
   "cell_type": "code",
   "execution_count": 14,
   "id": "7f4ffb70-f46a-4266-8c6f-41084e1c0ad3",
   "metadata": {},
   "outputs": [
    {
     "name": "stdout",
     "output_type": "stream",
     "text": [
      "+-----------+------+\n",
      "|Independent|Salary|\n",
      "+-----------+------+\n",
      "|[31.0,10.0]| 30000|\n",
      "| [30.0,8.0]| 25000|\n",
      "| [29.0,4.0]| 20000|\n",
      "| [24.0,3.0]| 20000|\n",
      "| [21.0,1.0]| 15000|\n",
      "| [23.0,2.0]| 18000|\n",
      "+-----------+------+\n",
      "\n"
     ]
    }
   ],
   "source": [
    "finalized_data.show()"
   ]
  },
  {
   "cell_type": "code",
   "execution_count": 59,
   "id": "70d4f141-c414-4999-aedd-0661b44f706c",
   "metadata": {},
   "outputs": [],
   "source": [
    "#Splitting input into train-test  and fit linear regression model on train\n",
    "from pyspark.ml.regression import LinearRegression\n",
    "train_data, test_data = finalized_data.randomSplit([0.60,0.40]) # Using randomSplit for splitting"
   ]
  },
  {
   "cell_type": "code",
   "execution_count": 60,
   "id": "4a312ae1-3dfa-4250-82b1-e4dded8f7ee6",
   "metadata": {},
   "outputs": [
    {
     "name": "stdout",
     "output_type": "stream",
     "text": [
      "+-----------+------+\n",
      "|Independent|Salary|\n",
      "+-----------+------+\n",
      "| [23.0,2.0]| 18000|\n",
      "| [24.0,3.0]| 20000|\n",
      "|[31.0,10.0]| 30000|\n",
      "+-----------+------+\n",
      "\n"
     ]
    }
   ],
   "source": [
    "train_data.show()"
   ]
  },
  {
   "cell_type": "code",
   "execution_count": 61,
   "id": "93ac851e-36db-47d8-9948-d80a1d7950f3",
   "metadata": {},
   "outputs": [
    {
     "name": "stdout",
     "output_type": "stream",
     "text": [
      "+-----------+------+\n",
      "|Independent|Salary|\n",
      "+-----------+------+\n",
      "| [21.0,1.0]| 15000|\n",
      "| [29.0,4.0]| 20000|\n",
      "| [30.0,8.0]| 25000|\n",
      "+-----------+------+\n",
      "\n"
     ]
    }
   ],
   "source": [
    "test_data.show()"
   ]
  },
  {
   "cell_type": "code",
   "execution_count": 62,
   "id": "7416188c-3c05-483e-ab68-9676a7a6686a",
   "metadata": {},
   "outputs": [
    {
     "data": {
      "text/plain": [
       "pyspark.sql.dataframe.DataFrame"
      ]
     },
     "execution_count": 62,
     "metadata": {},
     "output_type": "execute_result"
    }
   ],
   "source": [
    "type(finalized_data)"
   ]
  },
  {
   "cell_type": "code",
   "execution_count": 63,
   "id": "07a6c8e3-a0b7-4f7f-a398-586cb362afce",
   "metadata": {},
   "outputs": [],
   "source": [
    "regressor = LinearRegression(featuresCol='Independent', labelCol= 'Salary') # model definition"
   ]
  },
  {
   "cell_type": "code",
   "execution_count": 64,
   "id": "55fcaefa-16f8-449e-bbd6-847e05d10233",
   "metadata": {},
   "outputs": [
    {
     "name": "stderr",
     "output_type": "stream",
     "text": [
      "23/08/18 15:47:10 WARN Instrumentation: [95b72ad9] regParam is zero, which might cause numerical instability and overfitting.\n",
      "23/08/18 15:47:10 WARN Instrumentation: [95b72ad9] Cholesky solver failed due to singular covariance matrix. Retrying with Quasi-Newton solver.\n"
     ]
    }
   ],
   "source": [
    "regressor = regressor.fit(train_data) # training using .fit method"
   ]
  },
  {
   "cell_type": "code",
   "execution_count": 67,
   "id": "107a7322-9944-4eff-8660-0c26e24fad5c",
   "metadata": {},
   "outputs": [
    {
     "data": {
      "text/plain": [
       "DenseVector([736.8421, 736.8421])"
      ]
     },
     "execution_count": 67,
     "metadata": {},
     "output_type": "execute_result"
    }
   ],
   "source": [
    "regressor.coefficients"
   ]
  },
  {
   "cell_type": "code",
   "execution_count": 68,
   "id": "7116843b-7247-42cc-a48e-1ef3f765669a",
   "metadata": {},
   "outputs": [
    {
     "data": {
      "text/plain": [
       "-175.43859649151398"
      ]
     },
     "execution_count": 68,
     "metadata": {},
     "output_type": "execute_result"
    }
   ],
   "source": [
    "regressor.intercept"
   ]
  },
  {
   "cell_type": "code",
   "execution_count": 66,
   "id": "de1d758a-5df0-456b-a135-835968e09185",
   "metadata": {},
   "outputs": [],
   "source": [
    "## Evaluate using test_data both Independent and feature colmns\n",
    "pred_results = regressor.evaluate(test_data)"
   ]
  },
  {
   "cell_type": "code",
   "execution_count": 69,
   "id": "b8945eb6-85dc-4274-ada0-8bc63fbcf66d",
   "metadata": {},
   "outputs": [
    {
     "name": "stdout",
     "output_type": "stream",
     "text": [
      "+-----------+------+------------------+\n",
      "|Independent|Salary|        prediction|\n",
      "+-----------+------+------------------+\n",
      "| [21.0,1.0]| 15000|16035.087719298195|\n",
      "| [29.0,4.0]| 20000| 24140.35087719302|\n",
      "| [30.0,8.0]| 25000| 27824.56140350881|\n",
      "+-----------+------+------------------+\n",
      "\n"
     ]
    }
   ],
   "source": [
    "# Prediction\n",
    "pred_results.predictions.show()"
   ]
  },
  {
   "cell_type": "code",
   "execution_count": 71,
   "id": "5a7b02dd-dcef-471d-ac06-dc9641011e26",
   "metadata": {},
   "outputs": [
    {
     "data": {
      "text/plain": [
       "2666.6666666666756"
      ]
     },
     "execution_count": 71,
     "metadata": {},
     "output_type": "execute_result"
    }
   ],
   "source": [
    "## Model performance using mean absolute error\n",
    "pred_results.meanAbsoluteError"
   ]
  },
  {
   "cell_type": "code",
   "execution_count": null,
   "id": "a42508d6-bd4d-4de6-ad5e-bab2d9f34296",
   "metadata": {},
   "outputs": [],
   "source": []
  }
 ],
 "metadata": {
  "kernelspec": {
   "display_name": "Python 3 (ipykernel)",
   "language": "python",
   "name": "python3"
  },
  "language_info": {
   "codemirror_mode": {
    "name": "ipython",
    "version": 3
   },
   "file_extension": ".py",
   "mimetype": "text/x-python",
   "name": "python",
   "nbconvert_exporter": "python",
   "pygments_lexer": "ipython3",
   "version": "3.9.16"
  }
 },
 "nbformat": 4,
 "nbformat_minor": 5
}
